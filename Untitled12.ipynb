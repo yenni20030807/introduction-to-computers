{
  "nbformat": 4,
  "nbformat_minor": 0,
  "metadata": {
    "colab": {
      "provenance": [],
      "authorship_tag": "ABX9TyNVkzYVYYZIy+FXw+eRZU6a",
      "include_colab_link": true
    },
    "kernelspec": {
      "name": "python3",
      "display_name": "Python 3"
    },
    "language_info": {
      "name": "python"
    }
  },
  "cells": [
    {
      "cell_type": "markdown",
      "metadata": {
        "id": "view-in-github",
        "colab_type": "text"
      },
      "source": [
        "<a href=\"https://colab.research.google.com/github/yenni20030807/introduction-to-computers/blob/main/Untitled12.ipynb\" target=\"_parent\"><img src=\"https://colab.research.google.com/assets/colab-badge.svg\" alt=\"Open In Colab\"/></a>"
      ]
    },
    {
      "cell_type": "code",
      "execution_count": 2,
      "metadata": {
        "colab": {
          "base_uri": "https://localhost:8080/"
        },
        "id": "H9Ud4VgF-84x",
        "outputId": "8119a929-8b66-4dc2-a891-7afe7d983706"
      },
      "outputs": [
        {
          "output_type": "stream",
          "name": "stdout",
          "text": [
            "0517\n"
          ]
        }
      ],
      "source": [
        "print (\"0517\")"
      ]
    },
    {
      "cell_type": "code",
      "source": [
        "t=int(input(\"請輸入體溫：\"))\n",
        "\n",
        "if t >= 37.5:\n",
        "  print(\"體溫過高！\")\n",
        "elif t <= 37.4 and t >=37:\n",
        "  print (\"體溫略高！\")\n",
        "elif t <= 36.9 and t >=34:\n",
        "  print (\"體溫正常！\")\n",
        "else:\n",
        "  print(\"體溫異常，請重新量測！\")"
      ],
      "metadata": {
        "colab": {
          "base_uri": "https://localhost:8080/"
        },
        "id": "9fEOq0gp_BWu",
        "outputId": "6894369a-db2a-4ddb-8b8c-fcea2f602079"
      },
      "execution_count": 7,
      "outputs": [
        {
          "output_type": "stream",
          "name": "stdout",
          "text": [
            "請輸入體溫：32\n",
            "體溫異常，請重新量測！\n"
          ]
        }
      ]
    },
    {
      "cell_type": "code",
      "source": [
        "score =int(input(\"請輸入成績：\"))\n",
        "\n",
        "if score >= 90 :\n",
        "  print(\"A\")\n",
        "elif score <= 89 and score >=80:\n",
        "  print (\"B\")\n",
        "elif score <= 79 and score >=70:\n",
        "  print (\"C\")\n",
        "elif score <= 69 and score >=60:\n",
        "  print (\"D\")\n",
        "else:\n",
        "  print(\"F\")"
      ],
      "metadata": {
        "colab": {
          "base_uri": "https://localhost:8080/"
        },
        "id": "p_fKE1ueCBxF",
        "outputId": "d7e6dc71-1a34-4a0a-a719-ea96c1abceb4"
      },
      "execution_count": 10,
      "outputs": [
        {
          "output_type": "stream",
          "name": "stdout",
          "text": [
            "請輸入成績：98\n",
            "A\n"
          ]
        }
      ]
    },
    {
      "cell_type": "code",
      "source": [
        "season=int(input(\"請輸入月份\"))\n",
        "if season >=3 and season <=5:\n",
        "  print(\"%s月是春季\"%season)\n",
        "elif season >=6 and season <=8:\n",
        "  print(\"%s月是夏季\"%season)\n",
        "elif season >=9 and season <=11:\n",
        "  print(\"%s月是秋季\"%season)\n",
        "elif season ==12 and season ==1and season ==2:\n",
        "  print(\"%s月是冬季\"%season)\n",
        "else:\n",
        "  print(\"月份不在範圍內\") "
      ],
      "metadata": {
        "colab": {
          "base_uri": "https://localhost:8080/"
        },
        "id": "mgaNKv7ACsEl",
        "outputId": "841701f8-eafc-4ffa-edd7-83b75539d0d5"
      },
      "execution_count": 12,
      "outputs": [
        {
          "output_type": "stream",
          "name": "stdout",
          "text": [
            "請輸入月份4\n",
            "4月是春季\n"
          ]
        }
      ]
    },
    {
      "cell_type": "code",
      "source": [
        "money=int(input(\"請輸入收入:\"))\n",
        "\n",
        "if money <= 300000 :\n",
        "  print(\"稅金為:\")\n",
        "elif money <= 600000 and money >=300001:\n",
        "  print(\"稅金為:\",money*0.06)\n",
        "elif money <= 1000000 and money >=600001:\n",
        "  print(\"稅金為:\",money*0.13)\n",
        "elif money <= 2000000 and money >=1000001:\n",
        "  print(\"稅金為:\",money*0.21)\n",
        "else:\n",
        "  print(\"稅金為:\", money*0.3)"
      ],
      "metadata": {
        "colab": {
          "base_uri": "https://localhost:8080/"
        },
        "id": "twTiOIH0F1kd",
        "outputId": "94312ced-0949-4aae-ddab-ad12880619ea"
      },
      "execution_count": 15,
      "outputs": [
        {
          "output_type": "stream",
          "name": "stdout",
          "text": [
            "請輸入收入:3556655\n",
            "稅金為: 1066996.5\n"
          ]
        }
      ]
    },
    {
      "cell_type": "code",
      "source": [
        "score = int(input(\"score: \"))\n",
        "if score >= 90:\n",
        "    print('Grade is: A')\n",
        "elif score >= 80:\n",
        "    print('Grade is: B')\n",
        "elif score >= 70:\n",
        "    print('Grade is: C')\n",
        "elif score >= 60:\n",
        "    print('Grade is: D')\n",
        "else:\n",
        "    print('Grade is: F')"
      ],
      "metadata": {
        "colab": {
          "base_uri": "https://localhost:8080/"
        },
        "id": "Lrqo7dzUHnPX",
        "outputId": "e6de3f65-e44d-4549-b07e-0bee038c7df6"
      },
      "execution_count": 16,
      "outputs": [
        {
          "output_type": "stream",
          "name": "stdout",
          "text": [
            "score: 34\n",
            "Grade is: F\n"
          ]
        }
      ]
    },
    {
      "cell_type": "code",
      "source": [
        "rain=(input(\"今天要不要帶傘：\"))\n",
        "if(rain == \"Y\" or rain == \"y\"):\n",
        "  print(\"不用帶傘\")\n",
        "elif(rain == \"N\" or rain == \"n\"):\n",
        "  print(\"記得帶傘\")\n",
        "else:\n",
        "    print(\"無法判斷\")"
      ],
      "metadata": {
        "colab": {
          "base_uri": "https://localhost:8080/"
        },
        "id": "WGlnLp17Hxq8",
        "outputId": "65e01175-747d-4c03-cf07-7c04652b043a"
      },
      "execution_count": 17,
      "outputs": [
        {
          "output_type": "stream",
          "name": "stdout",
          "text": [
            "今天要不要帶傘：3\n",
            "無法判斷\n"
          ]
        }
      ]
    }
  ]
}