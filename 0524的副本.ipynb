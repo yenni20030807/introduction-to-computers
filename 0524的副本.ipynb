{
  "nbformat": 4,
  "nbformat_minor": 0,
  "metadata": {
    "colab": {
      "provenance": [],
      "include_colab_link": true
    },
    "kernelspec": {
      "name": "python3",
      "display_name": "Python 3"
    },
    "language_info": {
      "name": "python"
    }
  },
  "cells": [
    {
      "cell_type": "markdown",
      "metadata": {
        "id": "view-in-github",
        "colab_type": "text"
      },
      "source": [
        "<a href=\"https://colab.research.google.com/github/yenni20030807/introduction-to-computers/blob/main/0524%E7%9A%84%E5%89%AF%E6%9C%AC.ipynb\" target=\"_parent\"><img src=\"https://colab.research.google.com/assets/colab-badge.svg\" alt=\"Open In Colab\"/></a>"
      ]
    },
    {
      "cell_type": "code",
      "execution_count": 1,
      "metadata": {
        "id": "kT_D4cZ-1Ir9"
      },
      "outputs": [],
      "source": [
        "list1=range(2)"
      ]
    },
    {
      "cell_type": "code",
      "source": [
        "list(list1)"
      ],
      "metadata": {
        "colab": {
          "base_uri": "https://localhost:8080/"
        },
        "id": "4EZig47k2Un3",
        "outputId": "07148111-e9d2-4701-d2fc-7c77debd3e0d"
      },
      "execution_count": 2,
      "outputs": [
        {
          "output_type": "execute_result",
          "data": {
            "text/plain": [
              "[0, 1]"
            ]
          },
          "metadata": {},
          "execution_count": 2
        }
      ]
    },
    {
      "cell_type": "code",
      "source": [
        "list2=range(3)"
      ],
      "metadata": {
        "id": "-z2lETRV2bnR"
      },
      "execution_count": 3,
      "outputs": []
    },
    {
      "cell_type": "code",
      "source": [
        "list(list2)"
      ],
      "metadata": {
        "colab": {
          "base_uri": "https://localhost:8080/"
        },
        "id": "bNHvdjMR2rSD",
        "outputId": "1a4cee4d-b2a0-46bc-b92c-9fa3b4c9e77e"
      },
      "execution_count": 4,
      "outputs": [
        {
          "output_type": "execute_result",
          "data": {
            "text/plain": [
              "[0, 1, 2]"
            ]
          },
          "metadata": {},
          "execution_count": 4
        }
      ]
    },
    {
      "cell_type": "code",
      "source": [
        "list3=range(4)"
      ],
      "metadata": {
        "id": "vFI8Y6K22s7g"
      },
      "execution_count": 5,
      "outputs": []
    },
    {
      "cell_type": "code",
      "source": [
        "list(list3)"
      ],
      "metadata": {
        "colab": {
          "base_uri": "https://localhost:8080/"
        },
        "id": "CZFI43Bb24KS",
        "outputId": "e233157c-b650-48c0-b1f2-e29f2c604ca3"
      },
      "execution_count": 6,
      "outputs": [
        {
          "output_type": "execute_result",
          "data": {
            "text/plain": [
              "[0, 1, 2, 3]"
            ]
          },
          "metadata": {},
          "execution_count": 6
        }
      ]
    },
    {
      "cell_type": "code",
      "source": [
        "list4=range(1,5)"
      ],
      "metadata": {
        "id": "MJIoZePs25cx"
      },
      "execution_count": 7,
      "outputs": []
    },
    {
      "cell_type": "code",
      "source": [
        "list(list4)"
      ],
      "metadata": {
        "colab": {
          "base_uri": "https://localhost:8080/"
        },
        "id": "lDqzR-Lx3FNO",
        "outputId": "0ce84055-ba94-443f-f013-5121b62c7fcf"
      },
      "execution_count": 8,
      "outputs": [
        {
          "output_type": "execute_result",
          "data": {
            "text/plain": [
              "[1, 2, 3, 4]"
            ]
          },
          "metadata": {},
          "execution_count": 8
        }
      ]
    },
    {
      "cell_type": "code",
      "source": [
        "list5=range(2,8)"
      ],
      "metadata": {
        "id": "XRD23XoM3G7G"
      },
      "execution_count": 9,
      "outputs": []
    },
    {
      "cell_type": "code",
      "source": [
        "list(list5)"
      ],
      "metadata": {
        "colab": {
          "base_uri": "https://localhost:8080/"
        },
        "id": "tgaVO0WM3Oog",
        "outputId": "320f096b-c7cb-4c69-98cb-546e6f817e97"
      },
      "execution_count": 10,
      "outputs": [
        {
          "output_type": "execute_result",
          "data": {
            "text/plain": [
              "[2, 3, 4, 5, 6, 7]"
            ]
          },
          "metadata": {},
          "execution_count": 10
        }
      ]
    },
    {
      "cell_type": "code",
      "source": [
        "list6=range(-2,10)"
      ],
      "metadata": {
        "id": "uVYUau5T3P9G"
      },
      "execution_count": 11,
      "outputs": []
    },
    {
      "cell_type": "code",
      "source": [
        "list(list6)"
      ],
      "metadata": {
        "colab": {
          "base_uri": "https://localhost:8080/"
        },
        "id": "0DkwFf1V3a0z",
        "outputId": "7b74ffc5-95be-4bd5-dc4f-669de7da6829"
      },
      "execution_count": 12,
      "outputs": [
        {
          "output_type": "execute_result",
          "data": {
            "text/plain": [
              "[-2, -1, 0, 1, 2, 3, 4, 5, 6, 7, 8, 9]"
            ]
          },
          "metadata": {},
          "execution_count": 12
        }
      ]
    },
    {
      "cell_type": "code",
      "source": [
        "list7=range(10,2,-1)"
      ],
      "metadata": {
        "id": "JI3QqVKK3cbC"
      },
      "execution_count": 13,
      "outputs": []
    },
    {
      "cell_type": "code",
      "source": [
        "list(list7)"
      ],
      "metadata": {
        "colab": {
          "base_uri": "https://localhost:8080/"
        },
        "id": "yjdsivlk3n7U",
        "outputId": "aeb26625-e43a-4a30-8888-4128fbc81299"
      },
      "execution_count": 15,
      "outputs": [
        {
          "output_type": "execute_result",
          "data": {
            "text/plain": [
              "[10, 9, 8, 7, 6, 5, 4, 3]"
            ]
          },
          "metadata": {},
          "execution_count": 15
        }
      ]
    },
    {
      "cell_type": "code",
      "source": [
        "c=range(3,8,1)"
      ],
      "metadata": {
        "id": "RKqK0gls3pXb"
      },
      "execution_count": 16,
      "outputs": []
    },
    {
      "cell_type": "code",
      "source": [
        "list(c)"
      ],
      "metadata": {
        "colab": {
          "base_uri": "https://localhost:8080/"
        },
        "id": "ZYrZe4Sq4KvV",
        "outputId": "4df0f838-d2a0-4745-fc6b-44b1ef0992c3"
      },
      "execution_count": 17,
      "outputs": [
        {
          "output_type": "execute_result",
          "data": {
            "text/plain": [
              "[3, 4, 5, 6, 7]"
            ]
          },
          "metadata": {},
          "execution_count": 17
        }
      ]
    },
    {
      "cell_type": "code",
      "source": [
        "d=range(3,8,2)\n",
        "list(d)"
      ],
      "metadata": {
        "colab": {
          "base_uri": "https://localhost:8080/"
        },
        "id": "it527iCl4L-9",
        "outputId": "ced42311-de4f-4636-8f0a-4278773a46dc"
      },
      "execution_count": 18,
      "outputs": [
        {
          "output_type": "execute_result",
          "data": {
            "text/plain": [
              "[3, 5, 7]"
            ]
          },
          "metadata": {},
          "execution_count": 18
        }
      ]
    },
    {
      "cell_type": "code",
      "source": [
        "list8=range(10,2,-2)"
      ],
      "metadata": {
        "id": "SymqBtag4Ryf"
      },
      "execution_count": 19,
      "outputs": []
    },
    {
      "cell_type": "code",
      "source": [
        "list(list8)"
      ],
      "metadata": {
        "colab": {
          "base_uri": "https://localhost:8080/"
        },
        "id": "BA8pjDLT4ajT",
        "outputId": "3f71f756-1f54-48ce-8515-f60537818037"
      },
      "execution_count": 20,
      "outputs": [
        {
          "output_type": "execute_result",
          "data": {
            "text/plain": [
              "[10, 8, 6, 4]"
            ]
          },
          "metadata": {},
          "execution_count": 20
        }
      ]
    },
    {
      "cell_type": "code",
      "source": [
        "e=range(8,3,-1)"
      ],
      "metadata": {
        "id": "l15WxG8o4cSJ"
      },
      "execution_count": 21,
      "outputs": []
    },
    {
      "cell_type": "code",
      "source": [
        "list(e)"
      ],
      "metadata": {
        "colab": {
          "base_uri": "https://localhost:8080/"
        },
        "id": "pmN215WW4pn6",
        "outputId": "7dbeaac1-84b4-49b7-e7bd-6feeff2d26c3"
      },
      "execution_count": 22,
      "outputs": [
        {
          "output_type": "execute_result",
          "data": {
            "text/plain": [
              "[8, 7, 6, 5, 4]"
            ]
          },
          "metadata": {},
          "execution_count": 22
        }
      ]
    },
    {
      "cell_type": "code",
      "source": [
        "list9=range(0,9)"
      ],
      "metadata": {
        "id": "aFWsu8q14rMS"
      },
      "execution_count": 23,
      "outputs": []
    },
    {
      "cell_type": "code",
      "source": [
        "list(list9)"
      ],
      "metadata": {
        "colab": {
          "base_uri": "https://localhost:8080/"
        },
        "id": "QHRfczf35ic5",
        "outputId": "6e0256fc-bb77-4496-df39-5710ff715840"
      },
      "execution_count": 24,
      "outputs": [
        {
          "output_type": "execute_result",
          "data": {
            "text/plain": [
              "[0, 1, 2, 3, 4, 5, 6, 7, 8]"
            ]
          },
          "metadata": {},
          "execution_count": 24
        }
      ]
    },
    {
      "cell_type": "code",
      "source": [
        "list10=range(1,10)"
      ],
      "metadata": {
        "id": "A7qU29Wb9nTt"
      },
      "execution_count": 25,
      "outputs": []
    },
    {
      "cell_type": "code",
      "source": [
        "list(list10)"
      ],
      "metadata": {
        "colab": {
          "base_uri": "https://localhost:8080/"
        },
        "id": "6V66pgFT9qV4",
        "outputId": "45876cf6-0aff-458b-c2a2-126d9c62f77d"
      },
      "execution_count": 26,
      "outputs": [
        {
          "output_type": "execute_result",
          "data": {
            "text/plain": [
              "[1, 2, 3, 4, 5, 6, 7, 8, 9]"
            ]
          },
          "metadata": {},
          "execution_count": 26
        }
      ]
    },
    {
      "cell_type": "code",
      "source": [
        "list11=range(1, 10, 2)"
      ],
      "metadata": {
        "id": "Gm0OjhyK9u4Q"
      },
      "execution_count": 27,
      "outputs": []
    },
    {
      "cell_type": "code",
      "source": [
        "list(list11)"
      ],
      "metadata": {
        "colab": {
          "base_uri": "https://localhost:8080/"
        },
        "id": "_ibwpwvB99gw",
        "outputId": "ef0c0dd9-0b85-49a9-afa8-afd9855ac012"
      },
      "execution_count": 29,
      "outputs": [
        {
          "output_type": "execute_result",
          "data": {
            "text/plain": [
              "[1, 3, 5, 7, 9]"
            ]
          },
          "metadata": {},
          "execution_count": 29
        }
      ]
    },
    {
      "cell_type": "code",
      "source": [
        "list12=range(10,0,-2)"
      ],
      "metadata": {
        "id": "oYS_WPz-_5Ma"
      },
      "execution_count": 30,
      "outputs": []
    },
    {
      "cell_type": "code",
      "source": [
        "list(list12)"
      ],
      "metadata": {
        "colab": {
          "base_uri": "https://localhost:8080/"
        },
        "id": "GErrW0NL_sEj",
        "outputId": "6b2addca-1ce4-4c68-bd34-72a781e3a1c4"
      },
      "execution_count": 31,
      "outputs": [
        {
          "output_type": "execute_result",
          "data": {
            "text/plain": [
              "[10, 8, 6, 4, 2]"
            ]
          },
          "metadata": {},
          "execution_count": 31
        }
      ]
    },
    {
      "cell_type": "code",
      "source": [
        "a=int(input(\"請輸入正整數：\"))\n",
        "list(range(1,a+1))"
      ],
      "metadata": {
        "colab": {
          "base_uri": "https://localhost:8080/"
        },
        "id": "-Tqz_rdh_uSh",
        "outputId": "dbb9290f-d82a-48ce-964c-7eed1f1d214c"
      },
      "execution_count": 32,
      "outputs": [
        {
          "name": "stdout",
          "output_type": "stream",
          "text": [
            "請輸入正整數：6\n"
          ]
        },
        {
          "output_type": "execute_result",
          "data": {
            "text/plain": [
              "[1, 2, 3, 4, 5, 6]"
            ]
          },
          "metadata": {},
          "execution_count": 32
        }
      ]
    },
    {
      "cell_type": "code",
      "source": [
        "b=int(input(\"請輸入正整數：\"))\n",
        "sum=0\n",
        "for i  in range(1,b+1): \n",
        "  sum=sum+i\n",
        "print(\"1到{}的整數和為：{}\".format(b,sum))"
      ],
      "metadata": {
        "colab": {
          "base_uri": "https://localhost:8080/"
        },
        "id": "b7hZkxOOANRz",
        "outputId": "45f49c2d-cb59-4e62-a473-e5590f29a946"
      },
      "execution_count": 33,
      "outputs": [
        {
          "output_type": "stream",
          "name": "stdout",
          "text": [
            "請輸入正整數：67\n",
            "1到67的整數和為：2278\n"
          ]
        }
      ]
    },
    {
      "cell_type": "code",
      "source": [
        "b= int(input(\"請輸入正整數：\" ))\n",
        "for a in range(1, b+1):\n",
        "    sum_result = 0\n",
        "\n",
        "    for i in range(1, a + 1):\n",
        "        sum_result += i\n",
        "\n",
        "    print(\"1到%s的總和是：%s\" % (a, sum_result))"
      ],
      "metadata": {
        "colab": {
          "base_uri": "https://localhost:8080/"
        },
        "id": "BaM5zTwdFS-J",
        "outputId": "62d7d63f-26f8-4d30-c963-5bf17718b799"
      },
      "execution_count": 34,
      "outputs": [
        {
          "output_type": "stream",
          "name": "stdout",
          "text": [
            "請輸入正整數：56\n",
            "1到1的總和是：1\n",
            "1到2的總和是：3\n",
            "1到3的總和是：6\n",
            "1到4的總和是：10\n",
            "1到5的總和是：15\n",
            "1到6的總和是：21\n",
            "1到7的總和是：28\n",
            "1到8的總和是：36\n",
            "1到9的總和是：45\n",
            "1到10的總和是：55\n",
            "1到11的總和是：66\n",
            "1到12的總和是：78\n",
            "1到13的總和是：91\n",
            "1到14的總和是：105\n",
            "1到15的總和是：120\n",
            "1到16的總和是：136\n",
            "1到17的總和是：153\n",
            "1到18的總和是：171\n",
            "1到19的總和是：190\n",
            "1到20的總和是：210\n",
            "1到21的總和是：231\n",
            "1到22的總和是：253\n",
            "1到23的總和是：276\n",
            "1到24的總和是：300\n",
            "1到25的總和是：325\n",
            "1到26的總和是：351\n",
            "1到27的總和是：378\n",
            "1到28的總和是：406\n",
            "1到29的總和是：435\n",
            "1到30的總和是：465\n",
            "1到31的總和是：496\n",
            "1到32的總和是：528\n",
            "1到33的總和是：561\n",
            "1到34的總和是：595\n",
            "1到35的總和是：630\n",
            "1到36的總和是：666\n",
            "1到37的總和是：703\n",
            "1到38的總和是：741\n",
            "1到39的總和是：780\n",
            "1到40的總和是：820\n",
            "1到41的總和是：861\n",
            "1到42的總和是：903\n",
            "1到43的總和是：946\n",
            "1到44的總和是：990\n",
            "1到45的總和是：1035\n",
            "1到46的總和是：1081\n",
            "1到47的總和是：1128\n",
            "1到48的總和是：1176\n",
            "1到49的總和是：1225\n",
            "1到50的總和是：1275\n",
            "1到51的總和是：1326\n",
            "1到52的總和是：1378\n",
            "1到53的總和是：1431\n",
            "1到54的總和是：1485\n",
            "1到55的總和是：1540\n",
            "1到56的總和是：1596\n"
          ]
        }
      ]
    }
  ]
}