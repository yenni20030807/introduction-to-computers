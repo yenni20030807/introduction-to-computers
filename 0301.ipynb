{
  "nbformat": 4,
  "nbformat_minor": 0,
  "metadata": {
    "colab": {
      "provenance": [],
      "authorship_tag": "ABX9TyPxz2biHCEB1pBprYlvISDE",
      "include_colab_link": true
    },
    "kernelspec": {
      "name": "python3",
      "display_name": "Python 3"
    },
    "language_info": {
      "name": "python"
    }
  },
  "cells": [
    {
      "cell_type": "markdown",
      "metadata": {
        "id": "view-in-github",
        "colab_type": "text"
      },
      "source": [
        "<a href=\"https://colab.research.google.com/github/yenni20030807/introduction-to-computers/blob/main/0301.ipynb\" target=\"_parent\"><img src=\"https://colab.research.google.com/assets/colab-badge.svg\" alt=\"Open In Colab\"/></a>"
      ]
    },
    {
      "cell_type": "code",
      "execution_count": null,
      "metadata": {
        "colab": {
          "base_uri": "https://localhost:8080/"
        },
        "id": "K0z4NRf2ZBzU",
        "outputId": "9ca9a25b-6fc0-43c9-9e69-54092d97def9"
      },
      "outputs": [
        {
          "output_type": "stream",
          "name": "stdout",
          "text": [
            "你好！\n"
          ]
        }
      ],
      "source": [
        "print(\"你好！\")"
      ]
    },
    {
      "cell_type": "code",
      "source": [
        "print(\"hello!\")"
      ],
      "metadata": {
        "colab": {
          "base_uri": "https://localhost:8080/"
        },
        "id": "yWvnzOHBZMjN",
        "outputId": "4c945590-0368-42ba-974b-bf6953f270cb"
      },
      "execution_count": null,
      "outputs": [
        {
          "output_type": "stream",
          "name": "stdout",
          "text": [
            "hello!\n"
          ]
        }
      ]
    },
    {
      "cell_type": "code",
      "source": [
        "print(\"今天3月1號\")"
      ],
      "metadata": {
        "colab": {
          "base_uri": "https://localhost:8080/"
        },
        "id": "_bYn_NgeZRv6",
        "outputId": "80a38b27-b932-4356-9e8a-1c7db8dc9c8e"
      },
      "execution_count": null,
      "outputs": [
        {
          "output_type": "stream",
          "name": "stdout",
          "text": [
            "今天3月1號\n"
          ]
        }
      ]
    },
    {
      "cell_type": "code",
      "source": [
        "print(\"劉雁妮411550105\")"
      ],
      "metadata": {
        "colab": {
          "base_uri": "https://localhost:8080/"
        },
        "id": "Qqi45yXRZdEr",
        "outputId": "67a3ec4e-9be4-4800-f7a5-371c41eedfcb"
      },
      "execution_count": null,
      "outputs": [
        {
          "output_type": "stream",
          "name": "stdout",
          "text": [
            "劉雁妮411550105\n"
          ]
        }
      ]
    }
  ]
}